{
  "nbformat": 4,
  "nbformat_minor": 0,
  "metadata": {
    "colab": {
      "name": "Assignment 1 .ipynb",
      "provenance": []
    },
    "kernelspec": {
      "name": "python3",
      "display_name": "Python 3"
    }
  },
  "cells": [
    {
      "cell_type": "markdown",
      "metadata": {
        "id": "TOynXl4wF_XS"
      },
      "source": [
        "# Assingment 1 : Simple linear Regression for house pricing"
      ]
    },
    {
      "cell_type": "markdown",
      "metadata": {
        "id": "njhfQqbGGXhw"
      },
      "source": [
        "Our data comes from a Kaggle competition named “House Prices: Advanced Regression Techniques”. It contains 1460 training data points and 80 features that might help us predict the selling price of a house.<br>\n",
        "House pricing competition : https://www.kaggle.com/c/house-prices-advanced-regression-techniques/overview"
      ]
    },
    {
      "cell_type": "markdown",
      "metadata": {
        "id": "_XvC0McnGeMj"
      },
      "source": [
        "1- Load the data using pd.read_csv()"
      ]
    },
    {
      "cell_type": "code",
      "metadata": {
        "id": "48t-1h5EF6nQ"
      },
      "source": [
        ""
      ],
      "execution_count": null,
      "outputs": []
    },
    {
      "cell_type": "markdown",
      "metadata": {
        "id": "h3ab3hdaGjkx"
      },
      "source": [
        "Our target here , the independent variable y, will be the SalePrice. The goal of this assignment is to predict the Price of house in a giving neighborhood. Since we're working with simple linear regression, we can work with one dependent variable. "
      ]
    },
    {
      "cell_type": "markdown",
      "metadata": {
        "id": "dvfSt7W-HbrB"
      },
      "source": [
        "2- Show all the variables using df.columns"
      ]
    },
    {
      "cell_type": "code",
      "metadata": {
        "id": "Pxp28-b1HZGR"
      },
      "source": [
        ""
      ],
      "execution_count": null,
      "outputs": []
    },
    {
      "cell_type": "markdown",
      "metadata": {
        "id": "LOOYd14RHrO7"
      },
      "source": [
        "We have tons of variable that can come in hand to predict the price. In our case, let's use \"GrLivArea\".<br>"
      ]
    },
    {
      "cell_type": "markdown",
      "metadata": {
        "id": "bBuA-pjIIAze"
      },
      "source": [
        "3- Use a scatter plot with \"SalePrice\" in the y-axis and \"GrLivArea\" in the x-axis. "
      ]
    },
    {
      "cell_type": "code",
      "metadata": {
        "id": "qU1GITQRH_y5"
      },
      "source": [
        ""
      ],
      "execution_count": null,
      "outputs": []
    },
    {
      "cell_type": "markdown",
      "metadata": {
        "id": "zQsZDCdUIPrU"
      },
      "source": [
        "As you can see, our plot tend to be linear. We can use simple linear regression as a model to predict the price of our house. "
      ]
    },
    {
      "cell_type": "markdown",
      "metadata": {
        "id": "qs9zLWKzJYEo"
      },
      "source": [
        "4- Apply simple linear regression using Scikit-learn to predict the price. "
      ]
    },
    {
      "cell_type": "code",
      "metadata": {
        "id": "yG4YM8VYIzPq"
      },
      "source": [
        ""
      ],
      "execution_count": null,
      "outputs": []
    },
    {
      "cell_type": "code",
      "metadata": {
        "id": "tF-KPQIJJuNx"
      },
      "source": [
        ""
      ],
      "execution_count": null,
      "outputs": []
    },
    {
      "cell_type": "markdown",
      "metadata": {
        "id": "N7XnU-lVKPxh"
      },
      "source": [
        "5-Evaluate your model"
      ]
    },
    {
      "cell_type": "code",
      "metadata": {
        "id": "X0mUqg3PKTlU"
      },
      "source": [
        ""
      ],
      "execution_count": null,
      "outputs": []
    },
    {
      "cell_type": "markdown",
      "metadata": {
        "id": "XGNOJ4QTKLWz"
      },
      "source": [
        "6- You are ready to submit in the house pricing competition in kaggle. <br>\n",
        "Great Job ! "
      ]
    },
    {
      "cell_type": "markdown",
      "metadata": {
        "id": "lFUVbnrkJ1s0"
      },
      "source": [
        "## Extra: "
      ]
    },
    {
      "cell_type": "markdown",
      "metadata": {
        "id": "vhqgVctyJ_nt"
      },
      "source": [
        "implement gradient descent to determine the parameters needed to predict the price of the houses and compare the results with previous model. "
      ]
    },
    {
      "cell_type": "code",
      "metadata": {
        "id": "r0JjjNLGJ8XS"
      },
      "source": [
        ""
      ],
      "execution_count": null,
      "outputs": []
    }
  ]
}